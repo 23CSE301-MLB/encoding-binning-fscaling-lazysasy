{
 "cells": [
  {
   "cell_type": "code",
   "execution_count": 4,
   "id": "f47fa50d-4db4-4c2c-87bf-c9543acd4b18",
   "metadata": {},
   "outputs": [],
   "source": [
    "import pandas as pd\n",
    "\n",
    "df = pd.read_csv(\"tips.csv\")"
   ]
  },
  {
   "cell_type": "code",
   "execution_count": 6,
   "id": "c9388122-148e-405d-b003-23f316043146",
   "metadata": {},
   "outputs": [],
   "source": [
    "import seaborn as sns\n",
    "from sklearn.impute import KNNImputer\n",
    "from sklearn.preprocessing import StandardScaler"
   ]
  },
  {
   "cell_type": "code",
   "execution_count": 8,
   "id": "c38d4478-a3aa-4459-a323-6c0601391881",
   "metadata": {},
   "outputs": [
    {
     "name": "stdout",
     "output_type": "stream",
     "text": [
      "\n",
      "KNN Imputed:\n",
      "    total_bill   tip\n",
      "0       16.99  1.01\n",
      "1       10.34  1.66\n",
      "2       21.01  3.50\n",
      "3       23.68  3.31\n",
      "4       24.59  3.61\n",
      "5       25.29  4.71\n",
      "6        8.77  2.00\n",
      "7       26.88  3.12\n",
      "8       15.04  1.96\n",
      "9       14.78  3.23\n"
     ]
    }
   ],
   "source": [
    "df2 = df.copy()\n",
    "knn_imputer = KNNImputer(n_neighbors=3)\n",
    "df2[['total_bill', 'tip']] = knn_imputer.fit_transform(df2[['total_bill', 'tip']])\n",
    "print(\"\\nKNN Imputed:\\n\", df2[['total_bill', 'tip']].head(10))"
   ]
  },
  {
   "cell_type": "code",
   "execution_count": 12,
   "id": "95a56cbf-9941-4600-b065-9911446863de",
   "metadata": {
    "scrolled": true
   },
   "outputs": [
    {
     "name": "stdout",
     "output_type": "stream",
     "text": [
      "\n",
      "After ffill, bfill:\n",
      "    day smoker\n",
      "0  Sun     No\n",
      "1  Sun     No\n",
      "2  Sun     No\n",
      "3  Sun     No\n",
      "4  Sun     No\n",
      "5  Sun     No\n",
      "6  Sun     No\n",
      "7  Sun     No\n",
      "8  Sun     No\n",
      "9  Sun     No\n"
     ]
    }
   ],
   "source": [
    "df3 = df.copy()\n",
    "df3['day'] = df3['day'].ffill()\n",
    "df3['smoker'] = df3['smoker'].bfill()\n",
    "print(\"\\nAfter ffill, bfill:\\n\", df3[['day', 'smoker']].head(10))"
   ]
  },
  {
   "cell_type": "code",
   "execution_count": 14,
   "id": "7c01bebd-4444-4073-b719-bad33b05ec09",
   "metadata": {},
   "outputs": [
    {
     "name": "stdout",
     "output_type": "stream",
     "text": [
      "\n",
      "Standard Scaled Data:\n",
      "    total_bill       tip     sex smoker  day    time      size\n",
      "0   -0.314711 -1.439947  Female     No  Sun  Dinner -0.600193\n",
      "1   -1.063235 -0.969205    Male     No  Sun  Dinner  0.453383\n",
      "2    0.137780  0.363356    Male     No  Sun  Dinner  0.453383\n",
      "3    0.438315  0.225754    Male     No  Sun  Dinner -0.600193\n",
      "4    0.540745  0.443020  Female     No  Sun  Dinner  1.506958\n"
     ]
    }
   ],
   "source": [
    "df5 = df.copy()\n",
    "numeric_cols = df5.select_dtypes(include='number').columns\n",
    "\n",
    "scaler = StandardScaler()\n",
    "scaled_data = scaler.fit_transform(df5[numeric_cols])\n",
    "scaled_df = pd.DataFrame(scaled_data, columns=numeric_cols)\n",
    "\n",
    "df5[numeric_cols] = scaled_df\n",
    "print(\"\\nStandard Scaled Data:\\n\", df5.head())"
   ]
  },
  {
   "cell_type": "code",
   "execution_count": 20,
   "id": "6839caea-ff13-4ee7-845b-74c8db4ec1ab",
   "metadata": {},
   "outputs": [
    {
     "name": "stdout",
     "output_type": "stream",
     "text": [
      "\n",
      "Binned 'total_bill':\n",
      "    total_bill total_bill_bins\n",
      "0       16.99              Q2\n",
      "1       10.34              Q1\n",
      "2       21.01              Q3\n",
      "3       23.68              Q3\n",
      "4       24.59              Q4\n"
     ]
    }
   ],
   "source": [
    "df_bin = df.copy()\n",
    "df_bin = df_bin.dropna(subset=['total_bill']) \n",
    "\n",
    "df_bin['total_bill_bins'] = pd.qcut(df_bin['total_bill'], q=4, labels=['Q1', 'Q2', 'Q3', 'Q4'])\n",
    "print(\"\\nBinned 'total_bill':\\n\", df_bin[['total_bill', 'total_bill_bins']].head())"
   ]
  },
  {
   "cell_type": "code",
   "execution_count": null,
   "id": "c9bd6193-c2cb-4da6-a06a-2270ffa62636",
   "metadata": {},
   "outputs": [],
   "source": []
  },
  {
   "cell_type": "code",
   "execution_count": null,
   "id": "d890e91b-e421-4716-a75a-3f1a45609695",
   "metadata": {},
   "outputs": [],
   "source": []
  },
  {
   "cell_type": "code",
   "execution_count": null,
   "id": "fab9b948-8a57-4e2c-b45a-490fa960e97e",
   "metadata": {},
   "outputs": [],
   "source": []
  },
  {
   "cell_type": "code",
   "execution_count": null,
   "id": "e243abed-a57e-4a61-854e-c0bc7d7a0abf",
   "metadata": {},
   "outputs": [],
   "source": []
  }
 ],
 "metadata": {
  "kernelspec": {
   "display_name": "Python 3 (ipykernel)",
   "language": "python",
   "name": "python3"
  },
  "language_info": {
   "codemirror_mode": {
    "name": "ipython",
    "version": 3
   },
   "file_extension": ".py",
   "mimetype": "text/x-python",
   "name": "python",
   "nbconvert_exporter": "python",
   "pygments_lexer": "ipython3",
   "version": "3.12.7"
  }
 },
 "nbformat": 4,
 "nbformat_minor": 5
}

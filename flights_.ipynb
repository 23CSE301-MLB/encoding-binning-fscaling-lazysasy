{
 "cells": [
  {
   "cell_type": "code",
   "execution_count": 4,
   "id": "3a40550c-6543-47a2-b0ab-2dd6550de37a",
   "metadata": {},
   "outputs": [],
   "source": [
    "import pandas as pd\n",
    "\n",
    "df = pd.read_csv(\"flights.csv\")"
   ]
  },
  {
   "cell_type": "code",
   "execution_count": 6,
   "id": "962bc51b-887e-4dca-95fb-25faae3632a5",
   "metadata": {},
   "outputs": [],
   "source": [
    "import seaborn as sns\n",
    "from sklearn.preprocessing import LabelEncoder, MinMaxScaler"
   ]
  },
  {
   "cell_type": "code",
   "execution_count": 12,
   "id": "637b4188-8b0d-4fd8-8f30-1a31d95fa556",
   "metadata": {},
   "outputs": [
    {
     "name": "stdout",
     "output_type": "stream",
     "text": [
      "\n",
      "Label Encoded:\n",
      "       month  month_encoded\n",
      "0   January              4\n",
      "1  February              3\n",
      "2     March              7\n",
      "3     April              0\n",
      "4       May              8\n"
     ]
    }
   ],
   "source": [
    "df_encoded = df.copy()\n",
    "le = LabelEncoder()\n",
    "df_encoded['month_encoded'] = le.fit_transform(df_encoded['month'])\n",
    "\n",
    "print(\"\\nLabel Encoded:\\n\", df_encoded[['month', 'month_encoded']].head())"
   ]
  },
  {
   "cell_type": "code",
   "execution_count": 14,
   "id": "4fec9955-c27c-43b6-b5c3-9bb889360c9d",
   "metadata": {},
   "outputs": [
    {
     "name": "stdout",
     "output_type": "stream",
     "text": [
      "\n",
      "Equal-width Binning :\n",
      "    passengers passenger_bins_equal\n",
      "0         112                  Low\n",
      "1         118                  Low\n",
      "2         132                  Low\n",
      "3         129                  Low\n",
      "4         121                  Low\n"
     ]
    }
   ],
   "source": [
    "df_binned = df_encoded.copy()\n",
    "df_binned['passenger_bins_equal'] = pd.cut(df_binned['passengers'], bins=4, labels=['Low', 'Medium', 'High', 'Very High'])\n",
    "\n",
    "print(\"\\nEqual-width Binning :\\n\", df_binned[['passengers', 'passenger_bins_equal']].head())"
   ]
  },
  {
   "cell_type": "code",
   "execution_count": 18,
   "id": "44e163ee-c602-48b2-b8ff-db70db060c14",
   "metadata": {},
   "outputs": [
    {
     "name": "stdout",
     "output_type": "stream",
     "text": [
      "\n",
      "Normalized:\n",
      "    passengers  passengers_scaled\n",
      "0         112           0.015444\n",
      "1         118           0.027027\n",
      "2         132           0.054054\n",
      "3         129           0.048263\n",
      "4         121           0.032819\n"
     ]
    }
   ],
   "source": [
    "df_norm = df_binned.copy()\n",
    "scaler = MinMaxScaler()\n",
    "df_norm['passengers_scaled'] = scaler.fit_transform(df_norm[['passengers']])\n",
    "\n",
    "print(\"\\nNormalized:\\n\", df_norm[['passengers', 'passengers_scaled']].head())"
   ]
  },
  {
   "cell_type": "code",
   "execution_count": null,
   "id": "9f3f4129-67c0-4ea7-9118-108fa34306d8",
   "metadata": {},
   "outputs": [],
   "source": []
  },
  {
   "cell_type": "code",
   "execution_count": null,
   "id": "68c6cd68-48c1-4d76-b384-3e757b0deff1",
   "metadata": {},
   "outputs": [],
   "source": []
  },
  {
   "cell_type": "code",
   "execution_count": null,
   "id": "6e83c74d-9b36-4da2-8762-47e3ce17b54c",
   "metadata": {},
   "outputs": [],
   "source": []
  },
  {
   "cell_type": "code",
   "execution_count": null,
   "id": "c3ded1a1-6b8d-4972-b1ea-b77f3eb74588",
   "metadata": {},
   "outputs": [],
   "source": []
  }
 ],
 "metadata": {
  "kernelspec": {
   "display_name": "Python 3 (ipykernel)",
   "language": "python",
   "name": "python3"
  },
  "language_info": {
   "codemirror_mode": {
    "name": "ipython",
    "version": 3
   },
   "file_extension": ".py",
   "mimetype": "text/x-python",
   "name": "python",
   "nbconvert_exporter": "python",
   "pygments_lexer": "ipython3",
   "version": "3.12.7"
  }
 },
 "nbformat": 4,
 "nbformat_minor": 5
}
